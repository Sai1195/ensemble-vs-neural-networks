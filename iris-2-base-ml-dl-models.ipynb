{
 "cells": [
  {
   "cell_type": "code",
   "execution_count": 1,
   "id": "9ce6e686",
   "metadata": {
    "_cell_guid": "b1076dfc-b9ad-4769-8c92-a6c4dae69d19",
    "_uuid": "8f2839f25d086af736a60e9eeb907d3b93b6e0e5",
    "execution": {
     "iopub.execute_input": "2021-12-02T12:35:22.518288Z",
     "iopub.status.busy": "2021-12-02T12:35:22.517167Z",
     "iopub.status.idle": "2021-12-02T12:35:25.446590Z",
     "shell.execute_reply": "2021-12-02T12:35:25.445795Z",
     "shell.execute_reply.started": "2021-11-24T12:30:30.882734Z"
    },
    "papermill": {
     "duration": 2.966903,
     "end_time": "2021-12-02T12:35:25.446801",
     "exception": false,
     "start_time": "2021-12-02T12:35:22.479898",
     "status": "completed"
    },
    "tags": []
   },
   "outputs": [],
   "source": [
    "import warnings\n",
    "warnings.filterwarnings('ignore')\n",
    "\n",
    "import numpy as np\n",
    "import pandas as pd\n",
    "import matplotlib.pyplot as plt\n",
    "import seaborn as sns\n",
    "from scipy.spatial import distance\n",
    "from scipy import stats\n",
    "from scipy.stats import norm\n",
    "from sklearn.preprocessing import LabelEncoder\n",
    "from sklearn.model_selection import train_test_split\n",
    "\n",
    "import torch\n",
    "import torch.nn as nn\n",
    "import torchvision\n",
    "from torch.utils.data import Dataset, DataLoader\n",
    "\n",
    "torch.manual_seed(0)\n",
    "np.random.seed(0)"
   ]
  },
  {
   "cell_type": "code",
   "execution_count": 2,
   "id": "1f8bd4f2",
   "metadata": {
    "execution": {
     "iopub.execute_input": "2021-12-02T12:35:25.502550Z",
     "iopub.status.busy": "2021-12-02T12:35:25.501727Z",
     "iopub.status.idle": "2021-12-02T12:35:25.551940Z",
     "shell.execute_reply": "2021-12-02T12:35:25.551226Z",
     "shell.execute_reply.started": "2021-11-24T12:30:31.824942Z"
    },
    "papermill": {
     "duration": 0.084067,
     "end_time": "2021-12-02T12:35:25.552116",
     "exception": false,
     "start_time": "2021-12-02T12:35:25.468049",
     "status": "completed"
    },
    "tags": []
   },
   "outputs": [],
   "source": [
    "dataset = pd.read_csv('/kaggle/input/irisdataset/Iris.csv')\n",
    "dataset = dataset.drop(columns=['Id'])\n",
    "FEATURES_LIST = ['SepalLengthCm', 'SepalWidthCm', 'PetalLengthCm', 'PetalWidthCm']\n",
    "X = dataset[FEATURES_LIST].values\n",
    "Y = dataset[['Species']]\n",
    "encoder = LabelEncoder()\n",
    "Y = encoder.fit_transform(Y['Species'])\n",
    "\n",
    "test_size = 0.5\n",
    "X_train, X_test, y_train, y_test = train_test_split(X, Y, test_size=test_size, random_state=0)"
   ]
  },
  {
   "cell_type": "code",
   "execution_count": 3,
   "id": "9abf664e",
   "metadata": {
    "execution": {
     "iopub.execute_input": "2021-12-02T12:35:25.593948Z",
     "iopub.status.busy": "2021-12-02T12:35:25.593205Z",
     "iopub.status.idle": "2021-12-02T12:35:25.602679Z",
     "shell.execute_reply": "2021-12-02T12:35:25.603259Z",
     "shell.execute_reply.started": "2021-11-24T12:30:31.846628Z"
    },
    "papermill": {
     "duration": 0.032776,
     "end_time": "2021-12-02T12:35:25.603491",
     "exception": false,
     "start_time": "2021-12-02T12:35:25.570715",
     "status": "completed"
    },
    "tags": []
   },
   "outputs": [],
   "source": [
    "class KNeighborsClassifier():\n",
    "\n",
    "    def __init__(self, n_neighbors = 5, metric = 'euclidean'):\n",
    "        self._X = None\n",
    "        self._Y = None\n",
    "        self._n_neighbors = n_neighbors\n",
    "        self._metric = metric\n",
    "\n",
    "    def fit(self, X, Y):\n",
    "        self.validate_input(X)\n",
    "        self._X = X\n",
    "        self._Y = Y\n",
    "\n",
    "    def predict(self, x):\n",
    "        self.validate_input(x)\n",
    "        distances = distance.cdist(x, self._X, self._metric)\n",
    "        indices = distances.argsort(axis=1)\n",
    "        nearest_sample_indices = indices[:, :self._n_neighbors]\n",
    "        return self._Y[stats.mode(nearest_sample_indices, axis=1)[0].ravel()]\n",
    "\n",
    "    def score(self, x, y):\n",
    "        return np.mean(self.predict(x) == y)\n",
    "\n",
    "    def validate_input(self, x):\n",
    "        x_shape = x.shape\n",
    "        assert len(x_shape) == 2, f'Invalid shape obtained for X : {x_shape}'"
   ]
  },
  {
   "cell_type": "code",
   "execution_count": 4,
   "id": "b39d8532",
   "metadata": {
    "execution": {
     "iopub.execute_input": "2021-12-02T12:35:25.644463Z",
     "iopub.status.busy": "2021-12-02T12:35:25.643576Z",
     "iopub.status.idle": "2021-12-02T12:35:26.060112Z",
     "shell.execute_reply": "2021-12-02T12:35:26.059369Z",
     "shell.execute_reply.started": "2021-11-24T12:30:31.85907Z"
    },
    "papermill": {
     "duration": 0.438665,
     "end_time": "2021-12-02T12:35:26.060279",
     "exception": false,
     "start_time": "2021-12-02T12:35:25.621614",
     "status": "completed"
    },
    "tags": []
   },
   "outputs": [
    {
     "name": "stdout",
     "output_type": "stream",
     "text": [
      "For k = 1, train accuracy obtained is: 1.00 and test accuracy obtained is: 0.91\n",
      "For k = 2, train accuracy obtained is: 0.97 and test accuracy obtained is: 0.89\n",
      "For k = 3, train accuracy obtained is: 0.97 and test accuracy obtained is: 0.96\n",
      "For k = 4, train accuracy obtained is: 0.97 and test accuracy obtained is: 0.96\n",
      "For k = 5, train accuracy obtained is: 0.97 and test accuracy obtained is: 0.95\n",
      "For k = 6, train accuracy obtained is: 0.97 and test accuracy obtained is: 0.91\n",
      "For k = 7, train accuracy obtained is: 0.97 and test accuracy obtained is: 0.89\n",
      "For k = 8, train accuracy obtained is: 0.96 and test accuracy obtained is: 0.84\n",
      "For k = 9, train accuracy obtained is: 0.95 and test accuracy obtained is: 0.85\n",
      "For k = 10, train accuracy obtained is: 0.95 and test accuracy obtained is: 0.84\n"
     ]
    },
    {
     "data": {
      "text/html": [
       "<div>\n",
       "<style scoped>\n",
       "    .dataframe tbody tr th:only-of-type {\n",
       "        vertical-align: middle;\n",
       "    }\n",
       "\n",
       "    .dataframe tbody tr th {\n",
       "        vertical-align: top;\n",
       "    }\n",
       "\n",
       "    .dataframe thead th {\n",
       "        text-align: right;\n",
       "    }\n",
       "</style>\n",
       "<table border=\"1\" class=\"dataframe\">\n",
       "  <thead>\n",
       "    <tr style=\"text-align: right;\">\n",
       "      <th></th>\n",
       "      <th>K</th>\n",
       "      <th>score</th>\n",
       "    </tr>\n",
       "  </thead>\n",
       "  <tbody>\n",
       "    <tr>\n",
       "      <th>0</th>\n",
       "      <td>1</td>\n",
       "      <td>0.906667</td>\n",
       "    </tr>\n",
       "    <tr>\n",
       "      <th>1</th>\n",
       "      <td>2</td>\n",
       "      <td>0.893333</td>\n",
       "    </tr>\n",
       "    <tr>\n",
       "      <th>2</th>\n",
       "      <td>3</td>\n",
       "      <td>0.960000</td>\n",
       "    </tr>\n",
       "    <tr>\n",
       "      <th>3</th>\n",
       "      <td>4</td>\n",
       "      <td>0.960000</td>\n",
       "    </tr>\n",
       "    <tr>\n",
       "      <th>4</th>\n",
       "      <td>5</td>\n",
       "      <td>0.946667</td>\n",
       "    </tr>\n",
       "    <tr>\n",
       "      <th>5</th>\n",
       "      <td>6</td>\n",
       "      <td>0.906667</td>\n",
       "    </tr>\n",
       "    <tr>\n",
       "      <th>6</th>\n",
       "      <td>7</td>\n",
       "      <td>0.893333</td>\n",
       "    </tr>\n",
       "    <tr>\n",
       "      <th>7</th>\n",
       "      <td>8</td>\n",
       "      <td>0.840000</td>\n",
       "    </tr>\n",
       "    <tr>\n",
       "      <th>8</th>\n",
       "      <td>9</td>\n",
       "      <td>0.853333</td>\n",
       "    </tr>\n",
       "    <tr>\n",
       "      <th>9</th>\n",
       "      <td>10</td>\n",
       "      <td>0.840000</td>\n",
       "    </tr>\n",
       "  </tbody>\n",
       "</table>\n",
       "</div>"
      ],
      "text/plain": [
       "    K     score\n",
       "0   1  0.906667\n",
       "1   2  0.893333\n",
       "2   3  0.960000\n",
       "3   4  0.960000\n",
       "4   5  0.946667\n",
       "5   6  0.906667\n",
       "6   7  0.893333\n",
       "7   8  0.840000\n",
       "8   9  0.853333\n",
       "9  10  0.840000"
      ]
     },
     "metadata": {},
     "output_type": "display_data"
    },
    {
     "data": {
      "text/plain": [
       "Text(0.5, 1.0, 'Accuracy score vs K (KNN)')"
      ]
     },
     "execution_count": 4,
     "metadata": {},
     "output_type": "execute_result"
    },
    {
     "data": {
      "image/png": "[encoded data removed]",
      "text/plain": [
       "<Figure size 432x288 with 1 Axes>"
      ]
     },
     "metadata": {
      "needs_background": "light"
     },
     "output_type": "display_data"
    }
   ],
   "source": [
    "scores = []\n",
    "K = 10\n",
    "for k in range(1, K + 1):\n",
    "    knn = KNeighborsClassifier(n_neighbors = k)\n",
    "    knn.fit(X_train, y_train)\n",
    "    train_score = knn.score(X_train, y_train)\n",
    "    score = knn.score(X_test, y_test)\n",
    "    scores.append(score)\n",
    "    print(f'For k = {k}, train accuracy obtained is: {train_score:.2f} and test accuracy obtained is: {score:.2f}')\n",
    "\n",
    "df = pd.DataFrame({'K': list(range(1, K + 1)), 'score': scores})\n",
    "display(df)\n",
    "ax = sns.lineplot(data=df, x='K', y='score')\n",
    "ax.set_title('Accuracy score vs K (KNN)')"
   ]
  },
  {
   "cell_type": "code",
   "execution_count": 5,
   "id": "a557ebf9",
   "metadata": {
    "execution": {
     "iopub.execute_input": "2021-12-02T12:35:26.118008Z",
     "iopub.status.busy": "2021-12-02T12:35:26.117236Z",
     "iopub.status.idle": "2021-12-02T12:35:26.120844Z",
     "shell.execute_reply": "2021-12-02T12:35:26.120167Z",
     "shell.execute_reply.started": "2021-11-24T12:30:31.90736Z"
    },
    "papermill": {
     "duration": 0.039599,
     "end_time": "2021-12-02T12:35:26.121016",
     "exception": false,
     "start_time": "2021-12-02T12:35:26.081417",
     "status": "completed"
    },
    "tags": []
   },
   "outputs": [],
   "source": [
    "class GaussianNBClassifier():\n",
    "\n",
    "    def __init__(self):\n",
    "        self._X = None\n",
    "        self._Y = None\n",
    "\n",
    "    def fit(self, X, Y):\n",
    "        self.validate_input(X)\n",
    "        self._X = X\n",
    "        self._Y = Y\n",
    "\n",
    "        # Calculate class probability for each of the classes\n",
    "        self._class_info = {}\n",
    "        self._classes = np.unique(Y)\n",
    "        for c in self._classes:\n",
    "            samples = X[(Y == c).ravel()]\n",
    "            means = samples.mean(axis = 0)\n",
    "            stds  = samples.std(axis = 0)\n",
    "            self._class_info[c] = {\n",
    "                'class_prob': (1.0 * len(samples)) / len(X),\n",
    "                'means': means,\n",
    "                'stds': stds\n",
    "            }\n",
    "\n",
    "    def predict(self, x):\n",
    "        self.validate_input(x)\n",
    "        likelihoods = []\n",
    "        # Calculate for each of the class\n",
    "        for c in self._classes:\n",
    "            likelihood = np.log(self._class_info[c]['class_prob'])\n",
    "            means = self._class_info[c]['means']\n",
    "            stds  = self._class_info[c]['stds']\n",
    "            for i in range(self._X.shape[1]):\n",
    "                likelihood = likelihood + np.log(norm.pdf(x[:, i], loc = means[i], scale = stds[i]))\n",
    "            likelihoods.append(likelihood)\n",
    "        likelihoods = np.array(likelihoods).T\n",
    "        return np.argmax(likelihoods, axis=1)\n",
    "\n",
    "    def score(self, x, y):\n",
    "        return np.mean(self.predict(x) == y)\n",
    "\n",
    "    def validate_input(self, x):\n",
    "        x_shape = x.shape\n",
    "        assert len(x_shape) == 2, f'Invalid shape obtained for X : {x_shape}'"
   ]
  },
  {
   "cell_type": "code",
   "execution_count": 6,
   "id": "972271a8",
   "metadata": {
    "execution": {
     "iopub.execute_input": "2021-12-02T12:35:26.173802Z",
     "iopub.status.busy": "2021-12-02T12:35:26.168796Z",
     "iopub.status.idle": "2021-12-02T12:35:26.180621Z",
     "shell.execute_reply": "2021-12-02T12:35:26.181613Z",
     "shell.execute_reply.started": "2021-11-24T12:30:31.924375Z"
    },
    "papermill": {
     "duration": 0.0389,
     "end_time": "2021-12-02T12:35:26.181983",
     "exception": false,
     "start_time": "2021-12-02T12:35:26.143083",
     "status": "completed"
    },
    "tags": []
   },
   "outputs": [
    {
     "data": {
      "text/plain": [
       "array([2, 1, 0, 2, 0, 2, 0, 1, 1, 1, 1, 1, 1, 1, 1, 0, 1, 1, 0, 0, 2, 1,\n",
       "       0, 0, 2, 0, 0, 1, 1, 0, 2, 1, 0, 2, 2, 1, 0, 1, 1, 1, 2, 0, 2, 0,\n",
       "       0, 1, 2, 2, 1, 2, 1, 2, 1, 1, 2, 1, 1, 2, 1, 2, 1, 0, 2, 1, 1, 1,\n",
       "       1, 2, 0, 0, 2, 1, 0, 0, 1])"
      ]
     },
     "execution_count": 6,
     "metadata": {},
     "output_type": "execute_result"
    }
   ],
   "source": [
    "naivebayes = GaussianNBClassifier()\n",
    "naivebayes.fit(X_train, y_train)\n",
    "naivebayes.predict(X_test)"
   ]
  },
  {
   "cell_type": "code",
   "execution_count": 7,
   "id": "ba2b112f",
   "metadata": {
    "execution": {
     "iopub.execute_input": "2021-12-02T12:35:26.233074Z",
     "iopub.status.busy": "2021-12-02T12:35:26.231766Z",
     "iopub.status.idle": "2021-12-02T12:35:26.244126Z",
     "shell.execute_reply": "2021-12-02T12:35:26.243368Z",
     "shell.execute_reply.started": "2021-11-24T12:30:31.948401Z"
    },
    "papermill": {
     "duration": 0.039137,
     "end_time": "2021-12-02T12:35:26.244319",
     "exception": false,
     "start_time": "2021-12-02T12:35:26.205182",
     "status": "completed"
    },
    "tags": []
   },
   "outputs": [
    {
     "name": "stdout",
     "output_type": "stream",
     "text": [
      "0.9733333333333334\n",
      "0.9466666666666667\n"
     ]
    }
   ],
   "source": [
    "print(naivebayes.score(X_train, y_train))\n",
    "print(naivebayes.score(X_test, y_test))"
   ]
  },
  {
   "cell_type": "code",
   "execution_count": 8,
   "id": "a83135d3",
   "metadata": {
    "execution": {
     "iopub.execute_input": "2021-12-02T12:35:26.298723Z",
     "iopub.status.busy": "2021-12-02T12:35:26.297962Z",
     "iopub.status.idle": "2021-12-02T12:35:26.300755Z",
     "shell.execute_reply": "2021-12-02T12:35:26.301352Z",
     "shell.execute_reply.started": "2021-11-24T12:30:31.96092Z"
    },
    "papermill": {
     "duration": 0.033479,
     "end_time": "2021-12-02T12:35:26.301558",
     "exception": false,
     "start_time": "2021-12-02T12:35:26.268079",
     "status": "completed"
    },
    "tags": []
   },
   "outputs": [],
   "source": [
    "class IrisDataset(Dataset):\n",
    "    def __init__(self, X, Y):\n",
    "        self._X = X\n",
    "        self._Y = Y\n",
    "    \n",
    "    def __len__(self):\n",
    "        return len(self._X)\n",
    "    \n",
    "    def __getitem__(self, idx):\n",
    "        return self._X[idx], self._Y[idx]"
   ]
  },
  {
   "cell_type": "code",
   "execution_count": 9,
   "id": "bcafcccc",
   "metadata": {
    "execution": {
     "iopub.execute_input": "2021-12-02T12:35:26.350882Z",
     "iopub.status.busy": "2021-12-02T12:35:26.350033Z",
     "iopub.status.idle": "2021-12-02T12:35:26.365226Z",
     "shell.execute_reply": "2021-12-02T12:35:26.365742Z",
     "shell.execute_reply.started": "2021-11-24T12:30:31.97056Z"
    },
    "papermill": {
     "duration": 0.042703,
     "end_time": "2021-12-02T12:35:26.366114",
     "exception": false,
     "start_time": "2021-12-02T12:35:26.323411",
     "status": "completed"
    },
    "tags": []
   },
   "outputs": [],
   "source": [
    "class LogisticRegression():\n",
    "    def __init__(self, n_iter = 100, learning_rate = 0.1, batch_size = 32):\n",
    "        self._X = None\n",
    "        self._Y = None\n",
    "        self._model = None\n",
    "        self._n_classes = None\n",
    "        self._n_iter = n_iter\n",
    "        self._learning_rate = learning_rate\n",
    "        self._batch_size = batch_size\n",
    "    \n",
    "    def fit(self, X, Y):\n",
    "        self.validate_input(X)\n",
    "        self._X = X\n",
    "        self._Y = Y\n",
    "        self._n_classes = len(np.unique(Y))\n",
    "        self._model = self.train(X, Y)\n",
    "    \n",
    "    def train(self, X, Y):\n",
    "        model = nn.Linear(X.shape[1], self._n_classes)\n",
    "        criterion = nn.CrossEntropyLoss()\n",
    "        iris_dataset = IrisDataset(X, Y)\n",
    "        train_loader = DataLoader(dataset = iris_dataset, batch_size = self._batch_size, shuffle = True)\n",
    "        optimizer = torch.optim.SGD(model.parameters(), lr = self._learning_rate)\n",
    "        \n",
    "        for epoch in range(self._n_iter):\n",
    "            for i, (x, y) in enumerate(train_loader):\n",
    "                outputs = model(x.float())\n",
    "                loss = criterion(outputs, y)\n",
    "                optimizer.zero_grad()\n",
    "                loss.backward()\n",
    "                optimizer.step()\n",
    "        \n",
    "        return model\n",
    "    \n",
    "    def predict(self, x):\n",
    "        outputs = self.test(x)\n",
    "        return outputs.max(dim=1)[1].numpy()\n",
    "    \n",
    "    def score(self, x, y):\n",
    "        return np.mean(self.predict(x) == y)\n",
    "    \n",
    "    def test(self, x):\n",
    "        with torch.no_grad():\n",
    "            return self._model(torch.tensor(x).float())\n",
    "    \n",
    "    def validate_input(self, x):\n",
    "        x_shape = x.shape\n",
    "        assert len(x_shape) == 2, f'Invalid shape obtained for X : {x_shape}'"
   ]
  },
  {
   "cell_type": "code",
   "execution_count": 10,
   "id": "fd293559",
   "metadata": {
    "execution": {
     "iopub.execute_input": "2021-12-02T12:35:26.415597Z",
     "iopub.status.busy": "2021-12-02T12:35:26.414794Z",
     "iopub.status.idle": "2021-12-02T12:35:26.688681Z",
     "shell.execute_reply": "2021-12-02T12:35:26.689464Z",
     "shell.execute_reply.started": "2021-11-24T12:30:31.987294Z"
    },
    "papermill": {
     "duration": 0.301562,
     "end_time": "2021-12-02T12:35:26.689696",
     "exception": false,
     "start_time": "2021-12-02T12:35:26.388134",
     "status": "completed"
    },
    "tags": []
   },
   "outputs": [
    {
     "data": {
      "text/plain": [
       "array([2, 1, 0, 2, 0, 2, 0, 1, 1, 1, 2, 1, 1, 1, 1, 0, 1, 1, 0, 0, 2, 1,\n",
       "       0, 0, 1, 0, 0, 1, 1, 0, 2, 2, 0, 2, 2, 1, 0, 2, 1, 1, 2, 0, 1, 0,\n",
       "       0, 1, 2, 2, 2, 2, 1, 2, 1, 1, 1, 1, 2, 2, 1, 2, 1, 0, 2, 1, 1, 1,\n",
       "       1, 2, 0, 0, 2, 1, 0, 0, 1])"
      ]
     },
     "execution_count": 10,
     "metadata": {},
     "output_type": "execute_result"
    }
   ],
   "source": [
    "logisticreg = LogisticRegression()\n",
    "logisticreg.fit(X_train, y_train)\n",
    "logisticreg.predict(X_test)"
   ]
  },
  {
   "cell_type": "code",
   "execution_count": 11,
   "id": "8e0fd92c",
   "metadata": {
    "execution": {
     "iopub.execute_input": "2021-12-02T12:35:26.747032Z",
     "iopub.status.busy": "2021-12-02T12:35:26.746300Z",
     "iopub.status.idle": "2021-12-02T12:35:26.753246Z",
     "shell.execute_reply": "2021-12-02T12:35:26.753877Z",
     "shell.execute_reply.started": "2021-11-24T12:30:32.165797Z"
    },
    "papermill": {
     "duration": 0.038603,
     "end_time": "2021-12-02T12:35:26.754112",
     "exception": false,
     "start_time": "2021-12-02T12:35:26.715509",
     "status": "completed"
    },
    "tags": []
   },
   "outputs": [
    {
     "name": "stdout",
     "output_type": "stream",
     "text": [
      "0.9733333333333334\n",
      "0.92\n"
     ]
    }
   ],
   "source": [
    "print(logisticreg.score(X_train, y_train))\n",
    "print(logisticreg.score(X_test, y_test))"
   ]
  },
  {
   "cell_type": "code",
   "execution_count": 12,
   "id": "0ed6cee8",
   "metadata": {
    "execution": {
     "iopub.execute_input": "2021-12-02T12:35:26.811292Z",
     "iopub.status.busy": "2021-12-02T12:35:26.810559Z",
     "iopub.status.idle": "2021-12-02T12:35:26.825622Z",
     "shell.execute_reply": "2021-12-02T12:35:26.824910Z",
     "shell.execute_reply.started": "2021-11-24T12:30:32.173048Z"
    },
    "papermill": {
     "duration": 0.046905,
     "end_time": "2021-12-02T12:35:26.825806",
     "exception": false,
     "start_time": "2021-12-02T12:35:26.778901",
     "status": "completed"
    },
    "tags": []
   },
   "outputs": [],
   "source": [
    "class NeuralNetworkReLU():\n",
    "    def __init__(self, n_iter = 200, learning_rate = 0.1, batch_size = 32):\n",
    "        self._X = None\n",
    "        self._Y = None\n",
    "        self._model = None\n",
    "        self._n_iter = n_iter\n",
    "        self._learning_rate = learning_rate\n",
    "        self._batch_size = batch_size\n",
    "    \n",
    "    def get_neural_network_model(self):\n",
    "        return nn.Sequential(\n",
    "            nn.Linear(self._X.shape[1], 4),\n",
    "            nn.ReLU(),\n",
    "            nn.Linear(4, 8),\n",
    "            nn.ReLU(),\n",
    "            nn.Linear(8, self._n_classes)\n",
    "        )\n",
    "    \n",
    "    def fit(self, X, Y):\n",
    "        self.validate_input(X)\n",
    "        self._X = X\n",
    "        self._Y = Y\n",
    "        self._n_classes = len(np.unique(Y))\n",
    "        self._model = self.train(X, Y)\n",
    "    \n",
    "    def train(self, X, Y):\n",
    "        model = self.get_neural_network_model()\n",
    "        criterion = nn.CrossEntropyLoss()\n",
    "        iris_dataset = IrisDataset(X, Y)\n",
    "        train_loader = DataLoader(dataset = iris_dataset, batch_size = self._batch_size, shuffle = True)\n",
    "        optimizer = torch.optim.SGD(model.parameters(), lr = self._learning_rate)\n",
    "        \n",
    "        training_losses = []\n",
    "        for epoch in range(self._n_iter):\n",
    "            training_loss = 0.\n",
    "            for i, (x, y) in enumerate(train_loader):\n",
    "                outputs = model(x.float())\n",
    "                loss = criterion(outputs, y)\n",
    "                optimizer.zero_grad()\n",
    "                loss.backward()\n",
    "                optimizer.step()\n",
    "                training_loss += loss.item()\n",
    "            training_losses.append(training_loss)\n",
    "        df = pd.DataFrame({'epochs': list(range(self._n_iter)), 'training loss': training_losses})\n",
    "        display(df)\n",
    "        ax = sns.lineplot(data=df, x='epochs', y='training loss')\n",
    "        ax.set_title('Training loss vs epochs')\n",
    "        return model\n",
    "    \n",
    "    def predict(self, x):\n",
    "        outputs = self.test(x)\n",
    "        return outputs.max(dim=1)[1].numpy()\n",
    "    \n",
    "    def score(self, x, y):\n",
    "        return np.mean(self.predict(x) == y)\n",
    "    \n",
    "    def test(self, x):\n",
    "        with torch.no_grad():\n",
    "            return self._model(torch.tensor(x).float())\n",
    "    \n",
    "    def validate_input(self, x):\n",
    "        x_shape = x.shape\n",
    "        assert len(x_shape) == 2, f'Invalid shape obtained for X : {x_shape}'"
   ]
  },
  {
   "cell_type": "code",
   "execution_count": 13,
   "id": "5c4e9a26",
   "metadata": {
    "execution": {
     "iopub.execute_input": "2021-12-02T12:35:26.877719Z",
     "iopub.status.busy": "2021-12-02T12:35:26.876716Z",
     "iopub.status.idle": "2021-12-02T12:35:27.713892Z",
     "shell.execute_reply": "2021-12-02T12:35:27.714487Z",
     "shell.execute_reply.started": "2021-11-24T12:30:32.195411Z"
    },
    "papermill": {
     "duration": 0.865868,
     "end_time": "2021-12-02T12:35:27.714713",
     "exception": false,
     "start_time": "2021-12-02T12:35:26.848845",
     "status": "completed"
    },
    "tags": []
   },
   "outputs": [
    {
     "data": {
      "text/html": [
       "<div>\n",
       "<style scoped>\n",
       "    .dataframe tbody tr th:only-of-type {\n",
       "        vertical-align: middle;\n",
       "    }\n",
       "\n",
       "    .dataframe tbody tr th {\n",
       "        vertical-align: top;\n",
       "    }\n",
       "\n",
       "    .dataframe thead th {\n",
       "        text-align: right;\n",
       "    }\n",
       "</style>\n",
       "<table border=\"1\" class=\"dataframe\">\n",
       "  <thead>\n",
       "    <tr style=\"text-align: right;\">\n",
       "      <th></th>\n",
       "      <th>epochs</th>\n",
       "      <th>training loss</th>\n",
       "    </tr>\n",
       "  </thead>\n",
       "  <tbody>\n",
       "    <tr>\n",
       "      <th>0</th>\n",
       "      <td>0</td>\n",
       "      <td>3.207436</td>\n",
       "    </tr>\n",
       "    <tr>\n",
       "      <th>1</th>\n",
       "      <td>1</td>\n",
       "      <td>3.130828</td>\n",
       "    </tr>\n",
       "    <tr>\n",
       "      <th>2</th>\n",
       "      <td>2</td>\n",
       "      <td>3.073572</td>\n",
       "    </tr>\n",
       "    <tr>\n",
       "      <th>3</th>\n",
       "      <td>3</td>\n",
       "      <td>2.993197</td>\n",
       "    </tr>\n",
       "    <tr>\n",
       "      <th>4</th>\n",
       "      <td>4</td>\n",
       "      <td>2.977569</td>\n",
       "    </tr>\n",
       "    <tr>\n",
       "      <th>...</th>\n",
       "      <td>...</td>\n",
       "      <td>...</td>\n",
       "    </tr>\n",
       "    <tr>\n",
       "      <th>195</th>\n",
       "      <td>195</td>\n",
       "      <td>1.041723</td>\n",
       "    </tr>\n",
       "    <tr>\n",
       "      <th>196</th>\n",
       "      <td>196</td>\n",
       "      <td>0.726231</td>\n",
       "    </tr>\n",
       "    <tr>\n",
       "      <th>197</th>\n",
       "      <td>197</td>\n",
       "      <td>0.810794</td>\n",
       "    </tr>\n",
       "    <tr>\n",
       "      <th>198</th>\n",
       "      <td>198</td>\n",
       "      <td>1.439185</td>\n",
       "    </tr>\n",
       "    <tr>\n",
       "      <th>199</th>\n",
       "      <td>199</td>\n",
       "      <td>0.845235</td>\n",
       "    </tr>\n",
       "  </tbody>\n",
       "</table>\n",
       "<p>200 rows × 2 columns</p>\n",
       "</div>"
      ],
      "text/plain": [
       "     epochs  training loss\n",
       "0         0       3.207436\n",
       "1         1       3.130828\n",
       "2         2       3.073572\n",
       "3         3       2.993197\n",
       "4         4       2.977569\n",
       "..      ...            ...\n",
       "195     195       1.041723\n",
       "196     196       0.726231\n",
       "197     197       0.810794\n",
       "198     198       1.439185\n",
       "199     199       0.845235\n",
       "\n",
       "[200 rows x 2 columns]"
      ]
     },
     "metadata": {},
     "output_type": "display_data"
    },
    {
     "name": "stdout",
     "output_type": "stream",
     "text": [
      "Sequential(\n",
      "  (0): Linear(in_features=4, out_features=4, bias=True)\n",
      "  (1): ReLU()\n",
      "  (2): Linear(in_features=4, out_features=8, bias=True)\n",
      "  (3): ReLU()\n",
      "  (4): Linear(in_features=8, out_features=3, bias=True)\n",
      ")\n"
     ]
    },
    {
     "data": {
      "text/plain": [
       "array([2, 1, 0, 2, 0, 2, 0, 1, 1, 1, 2, 1, 1, 1, 2, 0, 2, 1, 0, 0, 2, 2,\n",
       "       0, 0, 2, 0, 0, 1, 1, 0, 2, 2, 0, 2, 2, 1, 0, 2, 1, 1, 2, 0, 2, 0,\n",
       "       0, 1, 2, 2, 2, 2, 1, 2, 2, 1, 2, 2, 2, 2, 1, 2, 1, 0, 2, 1, 1, 1,\n",
       "       1, 2, 0, 0, 2, 1, 0, 0, 1])"
      ]
     },
     "execution_count": 13,
     "metadata": {},
     "output_type": "execute_result"
    },
    {
     "data": {
      "image/png": "[encoded data removed]",
      "text/plain": [
       "<Figure size 432x288 with 1 Axes>"
      ]
     },
     "metadata": {
      "needs_background": "light"
     },
     "output_type": "display_data"
    }
   ],
   "source": [
    "neuralnet = NeuralNetworkReLU()\n",
    "neuralnet.fit(X_train, y_train)\n",
    "print(neuralnet.get_neural_network_model())\n",
    "neuralnet.predict(X_test)"
   ]
  },
  {
   "cell_type": "code",
   "execution_count": 14,
   "id": "46096772",
   "metadata": {
    "execution": {
     "iopub.execute_input": "2021-12-02T12:35:27.774501Z",
     "iopub.status.busy": "2021-12-02T12:35:27.773450Z",
     "iopub.status.idle": "2021-12-02T12:35:27.781473Z",
     "shell.execute_reply": "2021-12-02T12:35:27.782264Z",
     "shell.execute_reply.started": "2021-11-24T12:30:32.935575Z"
    },
    "papermill": {
     "duration": 0.040365,
     "end_time": "2021-12-02T12:35:27.782498",
     "exception": false,
     "start_time": "2021-12-02T12:35:27.742133",
     "status": "completed"
    },
    "tags": []
   },
   "outputs": [
    {
     "name": "stdout",
     "output_type": "stream",
     "text": [
      "0.9466666666666667\n",
      "0.92\n"
     ]
    }
   ],
   "source": [
    "print(neuralnet.score(X_train, y_train))\n",
    "print(neuralnet.score(X_test, y_test))"
   ]
  },
  {
   "cell_type": "code",
   "execution_count": 15,
   "id": "8bf708de",
   "metadata": {
    "execution": {
     "iopub.execute_input": "2021-12-02T12:35:27.843972Z",
     "iopub.status.busy": "2021-12-02T12:35:27.842926Z",
     "iopub.status.idle": "2021-12-02T12:35:27.861318Z",
     "shell.execute_reply": "2021-12-02T12:35:27.862043Z",
     "shell.execute_reply.started": "2021-11-24T12:30:32.947766Z"
    },
    "papermill": {
     "duration": 0.050149,
     "end_time": "2021-12-02T12:35:27.862384",
     "exception": false,
     "start_time": "2021-12-02T12:35:27.812235",
     "status": "completed"
    },
    "tags": []
   },
   "outputs": [],
   "source": [
    "class NeuralNetworkLeakyReLU():\n",
    "    def __init__(self, n_iter = 200, learning_rate = 0.1, batch_size = 32):\n",
    "        self._X = None\n",
    "        self._Y = None\n",
    "        self._model = None\n",
    "        self._n_iter = n_iter\n",
    "        self._learning_rate = learning_rate\n",
    "        self._batch_size = batch_size\n",
    "    \n",
    "    def get_neural_network_model(self):\n",
    "        return nn.Sequential(\n",
    "            nn.Linear(self._X.shape[1], 4),\n",
    "            nn.LeakyReLU(),\n",
    "            nn.Linear(4, 8),\n",
    "            nn.LeakyReLU(),\n",
    "            nn.Linear(8, self._n_classes)\n",
    "        )\n",
    "    \n",
    "    def fit(self, X, Y):\n",
    "        self.validate_input(X)\n",
    "        self._X = X\n",
    "        self._Y = Y\n",
    "        self._n_classes = len(np.unique(Y))\n",
    "        self._model = self.train(X, Y)\n",
    "    \n",
    "    def train(self, X, Y):\n",
    "        model = self.get_neural_network_model()\n",
    "        criterion = nn.CrossEntropyLoss()\n",
    "        iris_dataset = IrisDataset(X, Y)\n",
    "        train_loader = DataLoader(dataset = iris_dataset, batch_size = self._batch_size, shuffle = True)\n",
    "        optimizer = torch.optim.SGD(model.parameters(), lr = self._learning_rate)\n",
    "        \n",
    "        training_losses = []\n",
    "        for epoch in range(self._n_iter):\n",
    "            training_loss = 0.\n",
    "            for i, (x, y) in enumerate(train_loader):\n",
    "                outputs = model(x.float())\n",
    "                loss = criterion(outputs, y)\n",
    "                optimizer.zero_grad()\n",
    "                loss.backward()\n",
    "                optimizer.step()\n",
    "                training_loss += loss.item()\n",
    "            training_losses.append(training_loss)\n",
    "        df = pd.DataFrame({'epochs': list(range(self._n_iter)), 'training loss': training_losses})\n",
    "        display(df)\n",
    "        ax = sns.lineplot(data=df, x='epochs', y='training loss')\n",
    "        ax.set_title('Training loss vs epochs')\n",
    "        return model\n",
    "    \n",
    "    def predict(self, x):\n",
    "        outputs = self.test(x)\n",
    "        return outputs.max(dim=1)[1].numpy()\n",
    "    \n",
    "    def score(self, x, y):\n",
    "        return np.mean(self.predict(x) == y)\n",
    "    \n",
    "    def test(self, x):\n",
    "        with torch.no_grad():\n",
    "            return self._model(torch.tensor(x).float())\n",
    "    \n",
    "    def validate_input(self, x):\n",
    "        x_shape = x.shape\n",
    "        assert len(x_shape) == 2, f'Invalid shape obtained for X : {x_shape}'"
   ]
  },
  {
   "cell_type": "code",
   "execution_count": 16,
   "id": "3406d131",
   "metadata": {
    "execution": {
     "iopub.execute_input": "2021-12-02T12:35:27.919128Z",
     "iopub.status.busy": "2021-12-02T12:35:27.918041Z",
     "iopub.status.idle": "2021-12-02T12:35:28.674296Z",
     "shell.execute_reply": "2021-12-02T12:35:28.673668Z",
     "shell.execute_reply.started": "2021-11-24T12:30:32.968964Z"
    },
    "papermill": {
     "duration": 0.786298,
     "end_time": "2021-12-02T12:35:28.674476",
     "exception": false,
     "start_time": "2021-12-02T12:35:27.888178",
     "status": "completed"
    },
    "tags": []
   },
   "outputs": [
    {
     "data": {
      "text/html": [
       "<div>\n",
       "<style scoped>\n",
       "    .dataframe tbody tr th:only-of-type {\n",
       "        vertical-align: middle;\n",
       "    }\n",
       "\n",
       "    .dataframe tbody tr th {\n",
       "        vertical-align: top;\n",
       "    }\n",
       "\n",
       "    .dataframe thead th {\n",
       "        text-align: right;\n",
       "    }\n",
       "</style>\n",
       "<table border=\"1\" class=\"dataframe\">\n",
       "  <thead>\n",
       "    <tr style=\"text-align: right;\">\n",
       "      <th></th>\n",
       "      <th>epochs</th>\n",
       "      <th>training loss</th>\n",
       "    </tr>\n",
       "  </thead>\n",
       "  <tbody>\n",
       "    <tr>\n",
       "      <th>0</th>\n",
       "      <td>0</td>\n",
       "      <td>3.343115</td>\n",
       "    </tr>\n",
       "    <tr>\n",
       "      <th>1</th>\n",
       "      <td>1</td>\n",
       "      <td>3.211910</td>\n",
       "    </tr>\n",
       "    <tr>\n",
       "      <th>2</th>\n",
       "      <td>2</td>\n",
       "      <td>3.155007</td>\n",
       "    </tr>\n",
       "    <tr>\n",
       "      <th>3</th>\n",
       "      <td>3</td>\n",
       "      <td>3.224321</td>\n",
       "    </tr>\n",
       "    <tr>\n",
       "      <th>4</th>\n",
       "      <td>4</td>\n",
       "      <td>3.055077</td>\n",
       "    </tr>\n",
       "    <tr>\n",
       "      <th>...</th>\n",
       "      <td>...</td>\n",
       "      <td>...</td>\n",
       "    </tr>\n",
       "    <tr>\n",
       "      <th>195</th>\n",
       "      <td>195</td>\n",
       "      <td>0.401227</td>\n",
       "    </tr>\n",
       "    <tr>\n",
       "      <th>196</th>\n",
       "      <td>196</td>\n",
       "      <td>0.410905</td>\n",
       "    </tr>\n",
       "    <tr>\n",
       "      <th>197</th>\n",
       "      <td>197</td>\n",
       "      <td>0.566870</td>\n",
       "    </tr>\n",
       "    <tr>\n",
       "      <th>198</th>\n",
       "      <td>198</td>\n",
       "      <td>0.771925</td>\n",
       "    </tr>\n",
       "    <tr>\n",
       "      <th>199</th>\n",
       "      <td>199</td>\n",
       "      <td>0.394879</td>\n",
       "    </tr>\n",
       "  </tbody>\n",
       "</table>\n",
       "<p>200 rows × 2 columns</p>\n",
       "</div>"
      ],
      "text/plain": [
       "     epochs  training loss\n",
       "0         0       3.343115\n",
       "1         1       3.211910\n",
       "2         2       3.155007\n",
       "3         3       3.224321\n",
       "4         4       3.055077\n",
       "..      ...            ...\n",
       "195     195       0.401227\n",
       "196     196       0.410905\n",
       "197     197       0.566870\n",
       "198     198       0.771925\n",
       "199     199       0.394879\n",
       "\n",
       "[200 rows x 2 columns]"
      ]
     },
     "metadata": {},
     "output_type": "display_data"
    },
    {
     "name": "stdout",
     "output_type": "stream",
     "text": [
      "Sequential(\n",
      "  (0): Linear(in_features=4, out_features=4, bias=True)\n",
      "  (1): LeakyReLU(negative_slope=0.01)\n",
      "  (2): Linear(in_features=4, out_features=8, bias=True)\n",
      "  (3): LeakyReLU(negative_slope=0.01)\n",
      "  (4): Linear(in_features=8, out_features=3, bias=True)\n",
      ")\n"
     ]
    },
    {
     "data": {
      "text/plain": [
       "array([2, 1, 0, 2, 0, 2, 0, 1, 1, 1, 2, 1, 1, 1, 1, 0, 1, 1, 0, 0, 2, 1,\n",
       "       0, 0, 2, 0, 0, 1, 1, 0, 2, 2, 0, 2, 2, 1, 0, 2, 1, 1, 2, 0, 2, 0,\n",
       "       0, 1, 2, 2, 2, 2, 1, 2, 1, 1, 2, 2, 2, 2, 1, 2, 1, 0, 2, 1, 1, 1,\n",
       "       1, 2, 0, 0, 2, 1, 0, 0, 1])"
      ]
     },
     "execution_count": 16,
     "metadata": {},
     "output_type": "execute_result"
    },
    {
     "data": {
      "image/png": "[encoded data removed]",
      "text/plain": [
       "<Figure size 432x288 with 1 Axes>"
      ]
     },
     "metadata": {
      "needs_background": "light"
     },
     "output_type": "display_data"
    }
   ],
   "source": [
    "neuralnet = NeuralNetworkLeakyReLU()\n",
    "neuralnet.fit(X_train, y_train)\n",
    "print(neuralnet.get_neural_network_model())\n",
    "neuralnet.predict(X_test)"
   ]
  },
  {
   "cell_type": "code",
   "execution_count": 17,
   "id": "c245da75",
   "metadata": {
    "execution": {
     "iopub.execute_input": "2021-12-02T12:35:28.736510Z",
     "iopub.status.busy": "2021-12-02T12:35:28.735657Z",
     "iopub.status.idle": "2021-12-02T12:35:28.742419Z",
     "shell.execute_reply": "2021-12-02T12:35:28.743127Z",
     "shell.execute_reply.started": "2021-11-24T12:30:33.714365Z"
    },
    "papermill": {
     "duration": 0.040219,
     "end_time": "2021-12-02T12:35:28.743321",
     "exception": false,
     "start_time": "2021-12-02T12:35:28.703102",
     "status": "completed"
    },
    "tags": []
   },
   "outputs": [
    {
     "name": "stdout",
     "output_type": "stream",
     "text": [
      "0.96\n",
      "0.9733333333333334\n"
     ]
    }
   ],
   "source": [
    "print(neuralnet.score(X_train, y_train))\n",
    "print(neuralnet.score(X_test, y_test))"
   ]
  },
  {
   "cell_type": "code",
   "execution_count": 18,
   "id": "157fa4a0",
   "metadata": {
    "execution": {
     "iopub.execute_input": "2021-12-02T12:35:28.812032Z",
     "iopub.status.busy": "2021-12-02T12:35:28.806574Z",
     "iopub.status.idle": "2021-12-02T12:35:28.815683Z",
     "shell.execute_reply": "2021-12-02T12:35:28.815101Z",
     "shell.execute_reply.started": "2021-11-24T12:30:33.72381Z"
    },
    "papermill": {
     "duration": 0.041549,
     "end_time": "2021-12-02T12:35:28.815840",
     "exception": false,
     "start_time": "2021-12-02T12:35:28.774291",
     "status": "completed"
    },
    "tags": []
   },
   "outputs": [],
   "source": [
    "class MaxVotingEnsembleTechnique():\n",
    "    def __init__(self):\n",
    "        self.X = None\n",
    "        self.Y = None\n",
    "\n",
    "    def fit(self, models):\n",
    "        self.models = models\n",
    "\n",
    "    def predict(self, x):\n",
    "        predictions = []\n",
    "        for model in self.models:\n",
    "            predictions.append(model.predict(x))\n",
    "        predictions = np.array(predictions)\n",
    "        return stats.mode(predictions, axis=0)[0][0]\n",
    "\n",
    "    def score(self, x, y):\n",
    "        return np.mean(self.predict(x) == y)"
   ]
  },
  {
   "cell_type": "code",
   "execution_count": 19,
   "id": "612d9bfd",
   "metadata": {
    "execution": {
     "iopub.execute_input": "2021-12-02T12:35:28.878684Z",
     "iopub.status.busy": "2021-12-02T12:35:28.877985Z",
     "iopub.status.idle": "2021-12-02T12:35:28.893298Z",
     "shell.execute_reply": "2021-12-02T12:35:28.893809Z",
     "shell.execute_reply.started": "2021-11-24T12:30:33.736332Z"
    },
    "papermill": {
     "duration": 0.049258,
     "end_time": "2021-12-02T12:35:28.894029",
     "exception": false,
     "start_time": "2021-12-02T12:35:28.844771",
     "status": "completed"
    },
    "tags": []
   },
   "outputs": [
    {
     "data": {
      "text/plain": [
       "array([2, 1, 0, 2, 0, 2, 0, 1, 1, 1, 2, 1, 1, 1, 1, 0, 1, 1, 0, 0, 2, 1,\n",
       "       0, 0, 2, 0, 0, 1, 1, 0, 2, 2, 0, 2, 2, 1, 0, 2, 1, 1, 2, 0, 2, 0,\n",
       "       0, 1, 2, 2, 2, 2, 1, 2, 1, 1, 2, 1, 1, 2, 1, 2, 1, 0, 2, 1, 1, 1,\n",
       "       1, 2, 0, 0, 2, 1, 0, 0, 1])"
      ]
     },
     "execution_count": 19,
     "metadata": {},
     "output_type": "execute_result"
    }
   ],
   "source": [
    "maxvoting = MaxVotingEnsembleTechnique()\n",
    "maxvoting.fit([knn, naivebayes, logisticreg, neuralnet])\n",
    "maxvoting.predict(X_test)"
   ]
  },
  {
   "cell_type": "code",
   "execution_count": 20,
   "id": "e8a8e277",
   "metadata": {
    "execution": {
     "iopub.execute_input": "2021-12-02T12:35:28.959186Z",
     "iopub.status.busy": "2021-12-02T12:35:28.958398Z",
     "iopub.status.idle": "2021-12-02T12:35:28.982218Z",
     "shell.execute_reply": "2021-12-02T12:35:28.982955Z",
     "shell.execute_reply.started": "2021-11-24T12:30:33.764244Z"
    },
    "papermill": {
     "duration": 0.060197,
     "end_time": "2021-12-02T12:35:28.983180",
     "exception": false,
     "start_time": "2021-12-02T12:35:28.922983",
     "status": "completed"
    },
    "tags": []
   },
   "outputs": [
    {
     "name": "stdout",
     "output_type": "stream",
     "text": [
      "0.9733333333333334\n",
      "0.9466666666666667\n"
     ]
    }
   ],
   "source": [
    "print(maxvoting.score(X_train, y_train))\n",
    "print(maxvoting.score(X_test, y_test))"
   ]
  }
 ],
 "metadata": {
  "kernelspec": {
   "display_name": "Python 3",
   "language": "python",
   "name": "python3"
  },
  "language_info": {
   "codemirror_mode": {
    "name": "ipython",
    "version": 3
   },
   "file_extension": ".py",
   "mimetype": "text/x-python",
   "name": "python",
   "nbconvert_exporter": "python",
   "pygments_lexer": "ipython3",
   "version": "3.7.10"
  },
  "papermill": {
   "default_parameters": {},
   "duration": 18.290354,
   "end_time": "2021-12-02T12:35:30.228095",
   "environment_variables": {},
   "exception": null,
   "input_path": "__notebook__.ipynb",
   "output_path": "__notebook__.ipynb",
   "parameters": {},
   "start_time": "2021-12-02T12:35:11.937741",
   "version": "2.3.3"
  }
 },
 "nbformat": 4,
 "nbformat_minor": 5
}
