{
 "cells": [
  {
   "cell_type": "code",
   "execution_count": 1,
   "id": "730430be",
   "metadata": {
    "_cell_guid": "b1076dfc-b9ad-4769-8c92-a6c4dae69d19",
    "_uuid": "8f2839f25d086af736a60e9eeb907d3b93b6e0e5",
    "execution": {
     "iopub.execute_input": "2021-12-02T08:36:50.504748Z",
     "iopub.status.busy": "2021-12-02T08:36:50.503802Z",
     "iopub.status.idle": "2021-12-02T08:36:53.195382Z",
     "shell.execute_reply": "2021-12-02T08:36:53.196120Z",
     "shell.execute_reply.started": "2021-12-02T08:36:08.603282Z"
    },
    "papermill": {
     "duration": 2.708517,
     "end_time": "2021-12-02T08:36:53.196424",
     "exception": false,
     "start_time": "2021-12-02T08:36:50.487907",
     "status": "completed"
    },
    "tags": []
   },
   "outputs": [],
   "source": [
    "import warnings\n",
    "warnings.filterwarnings('ignore')\n",
    "\n",
    "import numpy as np\n",
    "import pandas as pd\n",
    "import matplotlib.pyplot as plt\n",
    "import seaborn as sns\n",
    "from scipy.spatial import distance\n",
    "from scipy import stats\n",
    "from scipy.stats import norm\n",
    "from sklearn.preprocessing import LabelEncoder\n",
    "from sklearn.model_selection import train_test_split\n",
    "\n",
    "import torch\n",
    "import torch.nn as nn\n",
    "import torchvision\n",
    "from torch.utils.data import Dataset, DataLoader\n",
    "\n",
    "plt.rcParams['figure.figsize'] = [10, 8]\n",
    "sns.set_style('darkgrid')\n"
   ]
  },
  {
   "cell_type": "code",
   "execution_count": 2,
   "id": "fc2635cc",
   "metadata": {
    "execution": {
     "iopub.execute_input": "2021-12-02T08:36:53.213121Z",
     "iopub.status.busy": "2021-12-02T08:36:53.212127Z",
     "iopub.status.idle": "2021-12-02T08:36:53.247010Z",
     "shell.execute_reply": "2021-12-02T08:36:53.247579Z",
     "shell.execute_reply.started": "2021-12-02T08:36:11.357008Z"
    },
    "papermill": {
     "duration": 0.04438,
     "end_time": "2021-12-02T08:36:53.247766",
     "exception": false,
     "start_time": "2021-12-02T08:36:53.203386",
     "status": "completed"
    },
    "tags": []
   },
   "outputs": [],
   "source": [
    "dataset = pd.read_csv('/kaggle/input/irisdataset/Iris.csv')\n",
    "dataset = dataset.drop(columns=['Id'])\n",
    "FEATURES_LIST = ['SepalLengthCm', 'SepalWidthCm', 'PetalLengthCm', 'PetalWidthCm']\n",
    "X = dataset[FEATURES_LIST].values\n",
    "Y = dataset[['Species']]\n",
    "encoder = LabelEncoder()\n",
    "Y = encoder.fit_transform(Y['Species'])\n",
    "\n",
    "test_size = 0.5\n",
    "X_train, X_test, y_train, y_test = train_test_split(X, Y, test_size=test_size, random_state=0)\n"
   ]
  },
  {
   "cell_type": "code",
   "execution_count": 3,
   "id": "06568cd8",
   "metadata": {
    "execution": {
     "iopub.execute_input": "2021-12-02T08:36:53.263359Z",
     "iopub.status.busy": "2021-12-02T08:36:53.262646Z",
     "iopub.status.idle": "2021-12-02T08:36:53.457739Z",
     "shell.execute_reply": "2021-12-02T08:36:53.457061Z",
     "shell.execute_reply.started": "2021-12-02T08:36:11.395899Z"
    },
    "papermill": {
     "duration": 0.204617,
     "end_time": "2021-12-02T08:36:53.457900",
     "exception": false,
     "start_time": "2021-12-02T08:36:53.253283",
     "status": "completed"
    },
    "tags": []
   },
   "outputs": [],
   "source": [
    "from sklearn.ensemble import AdaBoostClassifier\n",
    "from sklearn.ensemble import GradientBoostingClassifier"
   ]
  },
  {
   "cell_type": "code",
   "execution_count": 4,
   "id": "5f819ca2",
   "metadata": {
    "execution": {
     "iopub.execute_input": "2021-12-02T08:36:53.479708Z",
     "iopub.status.busy": "2021-12-02T08:36:53.478725Z",
     "iopub.status.idle": "2021-12-02T08:36:53.581171Z",
     "shell.execute_reply": "2021-12-02T08:36:53.580310Z",
     "shell.execute_reply.started": "2021-12-02T08:36:11.634550Z"
    },
    "papermill": {
     "duration": 0.117797,
     "end_time": "2021-12-02T08:36:53.581364",
     "exception": false,
     "start_time": "2021-12-02T08:36:53.463567",
     "status": "completed"
    },
    "tags": []
   },
   "outputs": [
    {
     "name": "stdout",
     "output_type": "stream",
     "text": [
      "0.9866666666666667\n",
      "0.96\n"
     ]
    }
   ],
   "source": [
    "adaboost = AdaBoostClassifier()\n",
    "adaboost.fit(X_train, y_train)\n",
    "print(adaboost.score(X_train, y_train))\n",
    "print(adaboost.score(X_test, y_test))"
   ]
  },
  {
   "cell_type": "code",
   "execution_count": 5,
   "id": "b4500440",
   "metadata": {
    "execution": {
     "iopub.execute_input": "2021-12-02T08:36:53.601074Z",
     "iopub.status.busy": "2021-12-02T08:36:53.600074Z",
     "iopub.status.idle": "2021-12-02T08:36:53.829784Z",
     "shell.execute_reply": "2021-12-02T08:36:53.830317Z",
     "shell.execute_reply.started": "2021-12-02T08:36:11.751031Z"
    },
    "papermill": {
     "duration": 0.242605,
     "end_time": "2021-12-02T08:36:53.830505",
     "exception": false,
     "start_time": "2021-12-02T08:36:53.587900",
     "status": "completed"
    },
    "tags": []
   },
   "outputs": [
    {
     "name": "stdout",
     "output_type": "stream",
     "text": [
      "1.0\n",
      "0.96\n"
     ]
    }
   ],
   "source": [
    "gb = GradientBoostingClassifier()\n",
    "gb.fit(X_train, y_train)\n",
    "print(gb.score(X_train, y_train))\n",
    "print(gb.score(X_test, y_test))"
   ]
  }
 ],
 "metadata": {
  "kernelspec": {
   "display_name": "Python 3",
   "language": "python",
   "name": "python3"
  },
  "language_info": {
   "codemirror_mode": {
    "name": "ipython",
    "version": 3
   },
   "file_extension": ".py",
   "mimetype": "text/x-python",
   "name": "python",
   "nbconvert_exporter": "python",
   "pygments_lexer": "ipython3",
   "version": "3.7.12"
  },
  "papermill": {
   "default_parameters": {},
   "duration": 14.248228,
   "end_time": "2021-12-02T08:36:54.648560",
   "environment_variables": {},
   "exception": null,
   "input_path": "__notebook__.ipynb",
   "output_path": "__notebook__.ipynb",
   "parameters": {},
   "start_time": "2021-12-02T08:36:40.400332",
   "version": "2.3.3"
  }
 },
 "nbformat": 4,
 "nbformat_minor": 5
}
